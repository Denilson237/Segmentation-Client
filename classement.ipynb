{
 "cells": [
  {
   "cell_type": "markdown",
   "id": "f9c388db",
   "metadata": {},
   "source": [
    "# <center>SEGMENTATION DE LA CLIENTELE D'UNE ENTREPRISE.</center>"
   ]
  },
  {
   "cell_type": "markdown",
   "id": "e79dcfc9",
   "metadata": {},
   "source": [
    "### OBJECTIF: \n",
    "       Apprendre a analyser un ensemble de données de transactions clients afin d'interprêter le comportement \n",
    "       des clients d'un fournisseur."
   ]
  },
  {
   "cell_type": "markdown",
   "id": "6ba3f506",
   "metadata": {},
   "source": [
    "### TACHES: \n",
    "   * Analyse exploratoire des données\n",
    "   * Analyse en composantes principales\n",
    "   * Creation des clusters"
   ]
  },
  {
   "cell_type": "markdown",
   "id": "b69154fc",
   "metadata": {},
   "source": [
    "## ANALYSE EXPLORATOIRE DES DONNEES"
   ]
  },
  {
   "cell_type": "markdown",
   "id": "9a08d9a4",
   "metadata": {},
   "source": [
    "### IMPORTATION"
   ]
  },
  {
   "cell_type": "code",
   "execution_count": null,
   "id": "21609e59",
   "metadata": {},
   "outputs": [],
   "source": [
    "from warnings import filterwarnings\n",
    "filterwarnings(\"ignore\")\n",
    "import pandas as pd\n",
    "import numpy as np\n",
    "import matplotlib.pyplot as plt\n",
    "import seaborn as sns\n",
    "from sklearn.preprocessing import StandardScaler\n",
    "from sklearn.decomposition import PCA, KernelPCA\n",
    "from scipy.stats import pearsonr\n",
    "from sklearn.cluster import KMeans\n",
    "from yellowbrick.cluster import KElbowVisualizer"
   ]
  },
  {
   "cell_type": "markdown",
   "id": "b1f50a97",
   "metadata": {},
   "source": [
    "### DONNEES"
   ]
  },
  {
   "cell_type": "code",
   "execution_count": null,
   "id": "49bacd27",
   "metadata": {},
   "outputs": [],
   "source": [
    "df = pd.read_csv(\"customers.csv\")\n",
    "df.head()"
   ]
  },
  {
   "cell_type": "code",
   "execution_count": null,
   "id": "bb2022c7",
   "metadata": {},
   "outputs": [],
   "source": [
    "df.info()"
   ]
  },
  {
   "cell_type": "code",
   "execution_count": null,
   "id": "8a58b669",
   "metadata": {},
   "outputs": [],
   "source": [
    "df.describe().T"
   ]
  },
  {
   "cell_type": "code",
   "execution_count": null,
   "id": "f66a3247",
   "metadata": {},
   "outputs": [],
   "source": [
    "df.isna().sum()"
   ]
  },
  {
   "cell_type": "code",
   "execution_count": null,
   "id": "8d886041",
   "metadata": {},
   "outputs": [],
   "source": [
    "df[\"Channel\"].value_counts()"
   ]
  },
  {
   "cell_type": "code",
   "execution_count": null,
   "id": "41b2b00c",
   "metadata": {},
   "outputs": [],
   "source": [
    "100 * df[\"Region\"].value_counts(normalize = True)"
   ]
  },
  {
   "cell_type": "code",
   "execution_count": null,
   "id": "18304546",
   "metadata": {},
   "outputs": [],
   "source": [
    "df = df.rename(columns = {\"Delicassen\" : \"Delicatessen\"})\n",
    "df[\"Region\"] = df[\"Region\"].map({1: \"Lisbon\", 2: \"Porto\", 3: \"Other\"})"
   ]
  },
  {
   "cell_type": "code",
   "execution_count": null,
   "id": "4de42c9d",
   "metadata": {},
   "outputs": [],
   "source": [
    "colonnes = df.columns.tolist()\n",
    "colonnes"
   ]
  },
  {
   "cell_type": "code",
   "execution_count": null,
   "id": "e6eff805",
   "metadata": {},
   "outputs": [],
   "source": [
    "for colonne in colonnes:\n",
    "    if colonne == \"Channel\" or colonne == \"Region\":\n",
    "        sns.countplot(y = df[colonne], palette = 'cool').set_title(colonne)\n",
    "        plt.show()\n",
    "    else:\n",
    "        sns.histplot(x = df[colonne], palette = 'cool').set_title(colonne)\n",
    "        plt.show()"
   ]
  },
  {
   "cell_type": "code",
   "execution_count": null,
   "id": "e98dda4c",
   "metadata": {},
   "outputs": [],
   "source": [
    "sns.pairplot(df);"
   ]
  },
  {
   "cell_type": "markdown",
   "id": "13d1992c",
   "metadata": {},
   "source": [
    "## ANALYSE EN COMPOSANTES PRINCIPALES"
   ]
  },
  {
   "cell_type": "code",
   "execution_count": null,
   "id": "37f713d8",
   "metadata": {},
   "outputs": [],
   "source": [
    "data = df.drop([\"Region\", \"Channel\"], axis = 1)\n",
    "data.head()"
   ]
  },
  {
   "cell_type": "code",
   "execution_count": null,
   "id": "9b73b23c",
   "metadata": {},
   "outputs": [],
   "source": [
    "#standardisation\n",
    "\n",
    "scaler = StandardScaler()\n",
    "data = scaler.fit_transform(data)\n",
    "data"
   ]
  },
  {
   "cell_type": "code",
   "execution_count": null,
   "id": "f18e3e3d",
   "metadata": {},
   "outputs": [],
   "source": [
    "#ACP LINEAIRE\n",
    "\n",
    "pca = PCA(n_components = 2)\n",
    "res_pca = pca.fit_transform(data)\n",
    "res_pca"
   ]
  },
  {
   "cell_type": "code",
   "execution_count": null,
   "id": "95203679",
   "metadata": {},
   "outputs": [],
   "source": [
    "plt.scatter(res_pca[:,0], res_pca[:,1])\n",
    "plt.xlabel(\"composate_1\")\n",
    "plt.ylabel(\"composate_2\")\n",
    "plt.title(\"PC1 vs PC2\");"
   ]
  },
  {
   "cell_type": "code",
   "execution_count": null,
   "id": "a362f4ae",
   "metadata": {},
   "outputs": [],
   "source": [
    "# coefficient de correlation de pearson\n",
    "\n",
    "pearsonr(res_pca[:,0], res_pca[:,1])[0]"
   ]
  },
  {
   "cell_type": "code",
   "execution_count": null,
   "id": "c18646aa",
   "metadata": {},
   "outputs": [],
   "source": [
    "# ACP non-lineaire\n",
    "\n",
    "kpca = KernelPCA(n_components = 2, kernel = \"rbf\")\n",
    "res_kpca_rbf = kpca.fit_transform(data)\n",
    "res_kpca_rbf"
   ]
  },
  {
   "cell_type": "code",
   "execution_count": null,
   "id": "b35ad47a",
   "metadata": {},
   "outputs": [],
   "source": [
    "plt.scatter(res_kpca_rbf[:,0], res_kpca_rbf[:,1])\n",
    "plt.xlabel(\"composate_1\")\n",
    "plt.ylabel(\"composate_2\")\n",
    "plt.title(\"PC1 vs PC2\");"
   ]
  },
  {
   "cell_type": "code",
   "execution_count": null,
   "id": "44243980",
   "metadata": {},
   "outputs": [],
   "source": [
    "# ajout des nouvelles colonnes au dataset\n",
    "\n",
    "df[\"x_kpca_rbf\"] = res_kpca_rbf[:,0]\n",
    "df[\"y_kpca_rbf\"] = res_kpca_rbf[:,1]"
   ]
  },
  {
   "cell_type": "code",
   "execution_count": null,
   "id": "a301ffa2",
   "metadata": {},
   "outputs": [],
   "source": [
    "df.head()"
   ]
  },
  {
   "cell_type": "markdown",
   "id": "747806b9",
   "metadata": {},
   "source": [
    "## CREATION DES CLUSTERS (KMEANS)"
   ]
  },
  {
   "cell_type": "code",
   "execution_count": null,
   "id": "5f589696",
   "metadata": {},
   "outputs": [],
   "source": [
    "# choisir le meilleur nombre de cluster\n",
    "\n",
    "kmeans = KMeans()\n",
    "visualizer = KElbowVisualizer(kmeans, k = (2, 12))\n",
    "visualizer.fit(res_kpca_rbf)\n",
    "visualizer.show();"
   ]
  },
  {
   "cell_type": "code",
   "execution_count": null,
   "id": "6bfd45f9",
   "metadata": {},
   "outputs": [],
   "source": [
    "model = KMeans(n_clusters = 5)\n",
    "model.fit(res_kpca_rbf)\n",
    "cluster = model.predict(res_kpca_rbf)\n",
    "cluster"
   ]
  },
  {
   "cell_type": "code",
   "execution_count": null,
   "id": "d647e8e5",
   "metadata": {},
   "outputs": [],
   "source": [
    "plt.scatter(res_kpca_rbf[:,0], res_kpca_rbf[:,1], c = cluster)\n",
    "plt.xlabel(\"composate_1\")\n",
    "plt.ylabel(\"composate_2\")\n",
    "plt.title(\"PC1 vs PC2\");"
   ]
  },
  {
   "cell_type": "code",
   "execution_count": null,
   "id": "ad719e80",
   "metadata": {},
   "outputs": [],
   "source": [
    "df[\"cluster\"] = cluster"
   ]
  },
  {
   "cell_type": "code",
   "execution_count": null,
   "id": "e777b1b5",
   "metadata": {},
   "outputs": [],
   "source": [
    "df.head()"
   ]
  },
  {
   "cell_type": "code",
   "execution_count": null,
   "id": "49328521",
   "metadata": {},
   "outputs": [],
   "source": [
    "df[\"cluster\"].unique()"
   ]
  },
  {
   "cell_type": "markdown",
   "id": "1937230f",
   "metadata": {},
   "source": [
    "### conclusion"
   ]
  },
  {
   "cell_type": "code",
   "execution_count": null,
   "id": "9ada4d4f",
   "metadata": {},
   "outputs": [],
   "source": [
    "result = df.drop([\"x_kpca_rbf\", \"y_kpca_rbf\",\"Channel\"], axis = 1).groupby([\"cluster\", \"Region\"]).mean()\n",
    "result"
   ]
  },
  {
   "cell_type": "code",
   "execution_count": null,
   "id": "ad830152",
   "metadata": {},
   "outputs": [],
   "source": [
    "result.to_csv(\"result.csv\")"
   ]
  }
 ],
 "metadata": {
  "kernelspec": {
   "display_name": "Python 3 (ipykernel)",
   "language": "python",
   "name": "python3"
  },
  "language_info": {
   "codemirror_mode": {
    "name": "ipython",
    "version": 3
   },
   "file_extension": ".py",
   "mimetype": "text/x-python",
   "name": "python",
   "nbconvert_exporter": "python",
   "pygments_lexer": "ipython3",
   "version": "3.11.5"
  }
 },
 "nbformat": 4,
 "nbformat_minor": 5
}
